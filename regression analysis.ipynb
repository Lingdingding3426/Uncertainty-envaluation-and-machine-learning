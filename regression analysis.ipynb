{
 "cells": [
  {
   "cell_type": "markdown",
   "metadata": {},
   "source": [
    "# question 1\n",
    "## a) proof \n",
    "$$var[X] = E[(X- E[X])^2]$$\\\n",
    "$$var[Y] = E[(Y- E[Y])^2]$$\\\n",
    "$$cov[X,Y] = E((X-E[X])(Y-E[Y]))$$\\\n",
    "$$\n",
    "\\begin{equation}\n",
    "\\begin{split}\n",
    "var[X+Y]&=E[(X+Y- E[X+Y])^2]\\\\\n",
    "&=E[(X+Y- E[X]-E[Y])^2]\\\\\n",
    "&=E[(X-E[X]+Y-E[Y])^2]\\\\\n",
    "&=E[(X-E[X])^2+(Y-E[Y])^2+2(X-E[X])(Y-E[Y])]\\\\\n",
    "&=E[(X-E[X])^2]+E[(Y-E[Y])^2]+2E[(X-E[X])(Y-E[Y])]\\\\\n",
    "&=var[X]+var[Y]+2cov[X,Y]\n",
    "\\end{split}\n",
    "\\end{equation}$$"
   ]
  },
  {
   "cell_type": "markdown",
   "metadata": {},
   "source": [
    "## b)"
   ]
  },
  {
   "cell_type": "code",
   "execution_count": 86,
   "metadata": {},
   "outputs": [
    {
     "name": "stdout",
     "output_type": "stream",
     "text": [
      "x's mean is 0.14098805478962687\n",
      "y's mean is 0.3777102705654734\n",
      "x's variance is 0.9477808072935915\n",
      "y's variance is 10.32152931744173\n",
      "x,y's covariance is [array([0.95735435, 2.99696691]), array([ 2.99696691, 10.42578719])]\n"
     ]
    }
   ],
   "source": [
    "import numpy as np\n",
    "mean = [0,0]\n",
    "cov = [[1,3],[3,10]]\n",
    "x,y= np.random.multivariate_normal(mean,cov,100).T\n",
    "x_mean = np.mean(x)\n",
    "print(\"x's mean is\", x_mean)\n",
    "y_mean = np.mean(y)\n",
    "print(\"y's mean is\", y_mean)\n",
    "x_var = np.var(x)\n",
    "print(\"x's variance is\", x_var)\n",
    "y_var = np.var(y)\n",
    "print(\"y's variance is\", y_var)\n",
    "xy_cov = list(np.cov(x,y))\n",
    "print(\"x,y's covariance is\",xy_cov)"
   ]
  },
  {
   "cell_type": "markdown",
   "metadata": {},
   "source": [
    "According to the result, we can see that the empirical variance and covariances is close to the initial values, so the formula is correct."
   ]
  },
  {
   "cell_type": "markdown",
   "metadata": {},
   "source": [
    "# Question 2\n",
    "## a)\n",
    "The likelihood is $p(x|\\theta) = \\theta e^{-\\theta x}$\\\n",
    "Therefore,after n trials\n",
    "$$ p(data|\\theta) = p(x_{1},x_{2},x_{3},...,x_{n}|\\theta) = \\theta^{n}e^{\\theta\\sum_{i=1}^{n}x_{n}}$$\n",
    "Maximizing likelihood is the same as maximizing log likelihood.\n",
    "$$log\\ likelihood = ln(p(data|\\theta)) = nln\\theta - \\theta \\sum x_{n}$$\n",
    "$$\\frac{d}{dp}(log\\ likelihood) = \\frac{n}{\\theta} - \\sum x_{n} = 0$$\n",
    "$$\\Rightarrow \\hat{\\theta} = \\frac{n}{\\sum x_{n}}$$\n",
    "$$\\Rightarrow \\hat{\\theta} = \\frac{1}{\\bar{x}}$$\n",
    "## b）\n",
    "we have $x_{1} = 5$,$x_{2} = 6$,$x_{3} = 4$\n",
    "therefore, the maximum likelihood of this data is \n",
    "$$\n",
    "\\begin{equation}\n",
    "\\begin{split}\n",
    "\\hat{\\theta} &= \\frac{1}{\\bar{x}}\\\\\n",
    "&= \\frac{1}{5}\n",
    "\\end{split}\n",
    "\\end{equation}\n",
    "$$\n",
    "## c)\n",
    "$\\because prior = \\theta^{3}e^{-3\\theta}$ and $likelihood = p(data|\\theta) = \\theta^{n}e^{\\theta\\sum_{i=1}^{n}x_{n}}$\\\n",
    "$$\n",
    "\\begin{equation}\n",
    "\\begin{split}\n",
    "posterior &= \\frac{p(\\theta)*p(x|\\theta)}{p(x)}\\\\\n",
    "    &=\\frac{\\theta^{3}e^{-3\\theta} * \\theta^{n}e^{\\theta\\sum_{i=1}^{n}x_{n}}}{\\int \\theta^{3}e^{-3\\theta} * \\theta^{n}e^{\\theta\\sum_{i=1}^{n}x_{n}}}d\\theta\\\\\n",
    "    &=c\\theta^{3}e^{-3\\theta} * \\theta^{n}e^{\\theta\\sum_{i=1}^{n}x_{n}} \\\\\n",
    "    &=c\\theta^{3+n}e^{-(3+\\theta\\sum_{i=1}^{n}x_{n})}\n",
    "\\end{split}\n",
    "\\end{equation}\n",
    "$$\n",
    "## d)\n",
    "$\\because$ from c) we can see that posterior result from exponential prior and likelihood is also in the exponential family.\\\n",
    "$\\therefore$ the exponential prior conjugate to the exponential likelihood."
   ]
  },
  {
   "cell_type": "markdown",
   "metadata": {},
   "source": [
    "# Question 3\n",
    "I devide the dataset half into the training set and half into the test set.\\\n",
    "In total we have ten data in each variable, therefore I chose 5 as training data and another 5 as test data.\\\n",
    "I can used the model trained to predict the test data, and calculate the r-squared and adjusted r-squared.\\\n",
    "In both linear regression and ridge regression test error is larger than training error.\\\n",
    "Compared with linear regression method, ridge regression has lower test error, because ridge regression used \n",
    "regularization to solve over fitting problem."
   ]
  },
  {
   "cell_type": "code",
   "execution_count": 106,
   "metadata": {},
   "outputs": [
    {
     "name": "stdout",
     "output_type": "stream",
     "text": [
      "Linear regression R2 is 1.4744478460581565 Adjused R2 is 1.632597128077542\n",
      "Linear regression R2_train is 0.6431105600188448 Adjused R2 train is 0.5241474133584598\n",
      "Ridge regression R2 is 1.4693505820306294 Adjused R2 is 1.632597128077542\n",
      "Ridge regression R2_train is 0.6264798422947122 Adjused R2 train is 0.5241474133584598\n"
     ]
    }
   ],
   "source": [
    "import numpy as np\n",
    "from sklearn import linear_model\n",
    "from sklearn.metrics import mean_squared_error, r2_score\n",
    "\n",
    "x = np.array([10.9, 12.4, 13.5, 14.6, 14.8, 15.6, 16.2, 17.5, 18.3, 18.6])\n",
    "y = np.array([24.8, 30.0, 31.0, 29.3, 35.9, 36.9, 42.5, 37.9, 38.9, 40.5])\n",
    "x_train = x[:5].reshape(-1,1)\n",
    "y_train = y[:5]\n",
    "x_test = x[5:].reshape(-1,1)\n",
    "y_test = y[5:]\n",
    "n = 5\n",
    "p = 1\n",
    "\n",
    "regr = linear_model.LinearRegression()\n",
    "regr.fit(x_train, y_train)\n",
    "y_pred = regr.predict(x_test)\n",
    "y_pred_train = regr.predict(x_train)\n",
    "R2 =abs(r2_score(y_test,y_pred))\n",
    "R2_train =abs(r2_score(y_train,y_pred_train))\n",
    "Adjust_R2 = 1-(1-R2)*(n-1)/(n-p-1)\n",
    "Adjust_R2_train = 1-(1-R2_train)*(n-1)/(n-p-1)\n",
    "print(\"Linear regression\", \"R2 is\", R2, \"Adjused R2 is\", Adjust_R2)\n",
    "print(\"Linear regression\", \"R2_train is\", R2_train, \"Adjused R2 train is\", Adjust_R2_train)\n",
    "\n",
    "n_alphas = 10\n",
    "alpha = np.logspace(-10, -2, n_alphas)\n",
    "ridge = linear_model.Ridge(alpha=0.5, fit_intercept=False)\n",
    "ridge.fit(x_train, y_train)\n",
    "\n",
    "y_pred_ridge = ridge.predict(x_test)\n",
    "y_pred_ridge_train = ridge.predict(x_train)\n",
    "R2_ridge = abs(r2_score(y_test,y_pred_ridge))\n",
    "R2_ridge_train = abs(r2_score(y_train,y_pred_ridge_train))\n",
    "Adjust_R2_ridge = 1-(1-R2)*(n-1)/(n-p-1)\n",
    "Adjust_R2_ridge_train = 1-(1-R2_train)*(n-1)/(n-p-1)\n",
    "print(\"Ridge regression\", \"R2 is\", R2_ridge, \"Adjused R2 is\", Adjust_R2_ridge)\n",
    "print(\"Ridge regression\", \"R2_train is\", R2_ridge_train, \"Adjused R2 train is\", Adjust_R2_ridge_train)"
   ]
  },
  {
   "cell_type": "markdown",
   "metadata": {},
   "source": [
    "# Question 4\n",
    "The posterior is a beta distribution with 42 and 12 as variable. \\\n",
    "So we can calculate the variance according to the formular:\\\n",
    "$$var = \\frac{(\\alpha * \\beta)^{2}}{2(\\alpha + \\beta +1)}$$\n",
    "$$se = \\sqrt{var}$$"
   ]
  },
  {
   "cell_type": "code",
   "execution_count": 116,
   "metadata": {
    "scrolled": true
   },
   "outputs": [
    {
     "name": "stdout",
     "output_type": "stream",
     "text": [
      "standard error is 0.05605833101216812\n",
      "The probability of next data point to be equal one is 0.7777777777777777\n"
     ]
    },
    {
     "data": {
      "image/png": "[encoded data removed]",
      "text/plain": [
       "<Figure size 432x288 with 1 Axes>"
      ]
     },
     "metadata": {
      "needs_background": "light"
     },
     "output_type": "display_data"
    }
   ],
   "source": [
    "import numpy as np\n",
    "from scipy.stats import beta\n",
    "import matplotlib.pyplot as plt\n",
    "from scipy import integrate\n",
    "\n",
    "fig, ax = plt.subplots(1, 1)\n",
    "\n",
    "a = 42  \n",
    "b = 12\n",
    "x = np.linspace(0.001, .999, 100)\n",
    "rv = beta(a,b)\n",
    "ax.plot(x,beta.pdf(x,a,b),'r-')\n",
    "\n",
    "mean, var, skew, kurt = beta.stats(a, b, moments='mvsk')\n",
    "se_rv = np.sqrt(var)\n",
    "print(\"standard error is\",se_rv)\n",
    "x2 = lambda x: x*beta.pdf(x,a,b)\n",
    "print(\"The probability of next data point to be equal one is\",integrate.quad(x2,0,1)[0])"
   ]
  }
 ],
 "metadata": {
  "kernelspec": {
   "display_name": "Python 3",
   "language": "python",
   "name": "python3"
  },
  "language_info": {
   "codemirror_mode": {
    "name": "ipython",
    "version": 3
   },
   "file_extension": ".py",
   "mimetype": "text/x-python",
   "name": "python",
   "nbconvert_exporter": "python",
   "pygments_lexer": "ipython3",
   "version": "3.7.3"
  }
 },
 "nbformat": 4,
 "nbformat_minor": 2
}

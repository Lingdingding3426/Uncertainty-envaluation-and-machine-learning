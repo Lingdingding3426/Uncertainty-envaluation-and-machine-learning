{
 "cells": [
  {
   "cell_type": "markdown",
   "metadata": {},
   "source": [
    "# Introduction\n",
    "## The Contraceptive Use Data (L)\n",
    "This is the alternative version of the contraceptive use data, showing the distribution of 1607 currently married and fecund women interviewed in the Fiji Fertility Survey, according to age, education, desire for more children and current use of contraception.\n",
    "\n",
    "This version has 32 rows corresponding to all possible covariate and response patterns, and includes a weight indicating the frequency of each combination. \n",
    "\n",
    "$$\n",
    "\\begin{array}{l}\n",
    "{\\text { The file has 5 columns with numeric codes: }} \\\\ \n",
    "{\\cdot \\text { age (four groups, 1=<25, 2=25-29, 3=30-39 and 4=40-49) }} \\\\ \n",
    "{\\cdot \\text { education (0=none, 1=some) }} \\\\\n",
    "{\\cdot \\text { desire for more children (0=more, 1=no more) }}\\\\\n",
    "{\\cdot \\text { contraceptive use (0=no, 1=yes) }} \\\\\n",
    "{\\cdot \\text { frequency (number of cases in this category) }}\n",
    "\\end{array} \n",
    "$$\n"
   ]
  },
  {
   "cell_type": "markdown",
   "metadata": {},
   "source": [
    "Here we choose age, education, desire for more children as features and contraceptive use as reponses"
   ]
  },
  {
   "cell_type": "code",
   "execution_count": 1,
   "metadata": {},
   "outputs": [
    {
     "name": "stdout",
     "output_type": "stream",
     "text": [
      "      age  cuse  desire  educ\n",
      "0       1     0       0     0\n",
      "1       1     1       0     0\n",
      "2       1     0       1     0\n",
      "3       1     1       1     0\n",
      "4       1     0       0     1\n",
      "5       1     1       0     1\n",
      "6       1     0       1     1\n",
      "7       1     1       1     1\n",
      "8       2     0       0     0\n",
      "9       2     1       0     0\n",
      "10      2     0       1     0\n",
      "11      2     1       1     0\n",
      "12      2     0       0     1\n",
      "13      2     1       0     1\n",
      "14      2     0       1     1\n",
      "15      2     1       1     1\n",
      "16      3     0       0     0\n",
      "17      3     1       0     0\n",
      "18      3     0       1     0\n",
      "19      3     1       1     0\n",
      "20      3     0       0     1\n",
      "21      3     1       0     1\n",
      "22      3     0       1     1\n",
      "23      3     1       1     1\n",
      "24      4     0       0     0\n",
      "25      4     1       0     0\n",
      "26      4     0       1     0\n",
      "27      4     1       1     0\n",
      "28      4     0       0     1\n",
      "29      4     1       0     1\n",
      "...   ...   ...     ...   ...\n",
      "1577    1     1       1     4\n",
      "1578    1     1       1     4\n",
      "1579    1     1       1     4\n",
      "1580    1     1       1     4\n",
      "1581    1     1       1     4\n",
      "1582    1     1       1     4\n",
      "1583    1     1       1     4\n",
      "1584    1     1       1     4\n",
      "1585    1     1       1     4\n",
      "1586    1     1       1     4\n",
      "1587    1     1       1     4\n",
      "1588    1     1       1     4\n",
      "1589    1     1       1     4\n",
      "1590    1     1       1     4\n",
      "1591    1     1       1     4\n",
      "1592    1     1       1     4\n",
      "1593    1     1       1     4\n",
      "1594    1     1       1     4\n",
      "1595    1     1       1     4\n",
      "1596    1     1       1     4\n",
      "1597    1     1       1     4\n",
      "1598    1     1       1     4\n",
      "1599    1     1       1     4\n",
      "1600    1     1       1     4\n",
      "1601    1     1       1     4\n",
      "1602    1     1       1     4\n",
      "1603    1     1       1     4\n",
      "1604    1     1       1     4\n",
      "1605    1     1       1     4\n",
      "1606    1     1       1     4\n",
      "\n",
      "[1607 rows x 4 columns]\n"
     ]
    },
    {
     "name": "stderr",
     "output_type": "stream",
     "text": [
      "C:\\Apps\\Anaconda\\lib\\site-packages\\pandas\\core\\frame.py:6692: FutureWarning: Sorting because non-concatenation axis is not aligned. A future version\n",
      "of pandas will change to not sort by default.\n",
      "\n",
      "To accept the future behavior, pass 'sort=False'.\n",
      "\n",
      "To retain the current behavior and silence the warning, pass 'sort=True'.\n",
      "\n",
      "  sort=sort)\n"
     ]
    }
   ],
   "source": [
    "import pandas as pd\n",
    "import sklearn\n",
    "from sklearn.model_selection import train_test_split\n",
    "from sklearn.linear_model import LogisticRegression\n",
    "from sklearn import metrics\n",
    "import numpy as np\n",
    "import matplotlib.pyplot as plt\n",
    "\n",
    "\n",
    "df = pd.read_stata('cuse.dta')\n",
    "\n",
    "df['educ'] = df['educ'].map({'None': 0, 'Some': 1})\n",
    "df['desire'] = df['desire'].map({'Wants no more': 1, 'Wants more': 0})\n",
    "df['age'] = df['age'].map({'<25': 1,'25-29' : 2, '30-39':3, '40-49' : 4})\n",
    "df['cuse'] = df['cuse'].map({'No': 0 , 'Yes':1})\n",
    "\n",
    "n = df['n']\n",
    "n = n.astype(int)\n",
    "df = df.drop(['n'], axis = 1)\n",
    "df1 = np.array(df)\n",
    "for i,j in enumerate(n):\n",
    "    df2 = pd.DataFrame([df1[i]] * (j-1), columns=['educ', 'desire', 'age', 'cuse'])\n",
    "    df = df.append(df2, ignore_index=True)\n",
    "print(df)\n"
   ]
  },
  {
   "cell_type": "markdown",
   "metadata": {},
   "source": [
    "Here we used sklearn package to split the data"
   ]
  },
  {
   "cell_type": "code",
   "execution_count": 2,
   "metadata": {},
   "outputs": [
    {
     "name": "stderr",
     "output_type": "stream",
     "text": [
      "C:\\Apps\\Anaconda\\lib\\site-packages\\sklearn\\linear_model\\logistic.py:432: FutureWarning: Default solver will be changed to 'lbfgs' in 0.22. Specify a solver to silence this warning.\n",
      "  FutureWarning)\n"
     ]
    },
    {
     "data": {
      "text/plain": [
       "array([[414,  26],\n",
       "       [169,  34]], dtype=int64)"
      ]
     },
     "execution_count": 2,
     "metadata": {},
     "output_type": "execute_result"
    }
   ],
   "source": [
    "feature_cols = ['age', 'educ','desire']\n",
    "\n",
    "x = df[feature_cols]\n",
    "y = df['cuse']\n",
    "\n",
    "x_train, x_test, y_train, y_test = train_test_split(x,y, test_size = 0.4, random_state = 0)\n",
    "logreg = LogisticRegression()\n",
    "\n",
    "logreg.fit(x_train, y_train)\n",
    "\n",
    "y_pred = logreg.predict(x_test)\n",
    "\n",
    "cnf_matrix = metrics.confusion_matrix(y_test, y_pred)\n",
    "cnf_matrix"
   ]
  },
  {
   "cell_type": "markdown",
   "metadata": {},
   "source": [
    "Cross-entropy loss, or log loss, measures the performance of a classification model whose output is a probability value between 0 and 1. Cross-entropy loss increases as the predicted probability diverges from the actual label.\\\n",
    "In classification question instead of Mean Squared Error, we use a cost function called Cross-Entropy, also known as Log Loss. Cross-entropy loss can be divided into two separate cost functions: one for y=1 and one for y=0.\n",
    "\n",
    "$$\n",
    "\\begin{array}{ll}{J(\\theta)=\\frac{1}{m} \\sum_{i=1}^{m} \\operatorname{cost}\\left(h_{\\theta}\\left(x^{(i)}\\right), y^{(i)}\\right)} & {} \\\\ {\\operatorname{cost}\\left(h_{\\theta}(x), y\\right)=-\\log \\left(h_{\\theta}(x)\\right)} & {\\text { if } y=1} \\\\ {\\operatorname{cost}\\left(h_{\\theta}(x), y\\right)=-\\log \\left(1-h_{\\theta}(x)\\right)} & {\\text { if } y=0}\\end{array}\n",
    "$$\n",
    "Above functions compressed into one\n",
    "$$\n",
    "J(\\theta)=-\\frac{1}{m} \\sum_{i=1}^{m}\\left[y^{(i)} \\log \\left(h_{\\theta}\\left(x^{(i)}\\right)\\right)+\\left(1-y^{(i)}\\right) \\log \\left(1-h_{\\theta}\\left(x^{(i)}\\right)\\right)\\right]\n",
    "$$\n",
    "Vectorized cost function\\\n",
    "$$\n",
    "\\begin{array}{l}{h=g(X \\theta)} \\\\ {J(\\theta)=\\frac{1}{m} \\cdot\\left(-y^{T} \\log (h)-(1-y)^{T} \\log (1-h)\\right)}\\end{array}\n",
    "$$"
   ]
  },
  {
   "cell_type": "code",
   "execution_count": 3,
   "metadata": {},
   "outputs": [],
   "source": [
    "def sigmoid(z):\n",
    "    return 1.0 / (1 + np.exp(-z))\n",
    "\n",
    "def predict(features, weights):\n",
    "    z = np.dot(features, weights)\n",
    "#     print(sigmoid(z).shape)\n",
    "    return sigmoid(z)\n",
    "\n",
    "def cost_function(features, labels, weights):\n",
    "    observations = len(labels)\n",
    "\n",
    "    predictions = predict(features, weights)\n",
    "\n",
    "    #Take the error when label=1\n",
    "    class1_cost = -labels*np.log(predictions)\n",
    "\n",
    "    #Take the error when label=0\n",
    "    class2_cost = (1-labels)*np.log(1-predictions)\n",
    "\n",
    "    #Take the sum of both costs\n",
    "    cost = class1_cost - class2_cost\n",
    "\n",
    "    #Take the average cost\n",
    "    cost = cost.sum() / observations\n",
    "\n",
    "    return cost"
   ]
  },
  {
   "cell_type": "markdown",
   "metadata": {},
   "source": [
    "For first-order gradient desent method, the derivation of the cost function is:\n",
    "$$\n",
    "C^{\\prime}=x(s(z)-y)\n",
    "$$\n",
    "we update the weights:\n",
    "$$\n",
    "\\vec{w}_{n+1}=\\vec{w}_{n}-lr \\nabla f\\left(\\vec{w}_{n}\\right)\n",
    "$$\n",
    "\n",
    "For second-order gradient desent method(Newton's method)\n",
    "$$\n",
    "H_{\\ell(\\hat{\\theta})}=\\left[\\begin{array}{c}{\\frac{\\partial^{2} \\ell}{\\partial \\theta_{1}^{2}} \\frac{\\partial^{2} \\ell}{\\partial \\theta_{1} \\partial \\theta_{2}}} \\\\ {\\frac{\\partial^{2} \\ell}{\\partial \\theta_{2} \\partial \\theta_{1}} \\frac{\\partial^{2} \\ell}{\\partial \\theta_{2}^{2}}}\\end{array}\\right]\n",
    "$$\n",
    "$$\n",
    "\\nabla \\ell=\\left\\langle\\begin{array}{c}{\\sum_{i=1}^{n}\\left(y_{i}-h_{\\theta}\\left(x_{i}\\right)\\right) x_{i}} \\\\ {\\sum_{i=1}^{n}\\left(y_{i}-h_{\\theta}\\left(x_{i}\\right)\\right)}\\end{array}\\right\\rangle\n",
    "$$\n",
    "$$\n",
    "H_{\\ell(\\hat{\\theta})}=\\left[\\begin{array}{c}{\\sum_{i=1}^{n} h_{\\theta}\\left(x_{i}\\right)\\left(1-h_{\\theta}\\left(x_{i}\\right)\\right) \\theta_{1} \\theta_{1}, \\sum_{i=1}^{n} h_{\\theta}\\left(x_{i}\\right)\\left(1-h_{\\theta}\\left(x_{i}\\right)\\right) \\theta_{1}} \\\\ {\\sum_{i=1}^{n} h_{\\theta}\\left(x_{i}\\right)\\left(1-h_{\\theta}\\left(x_{i}\\right)\\right) \\theta_{1}, \\sum_{i=1}^{n} h_{\\theta}\\left(x_{i}\\right)\\left(1-h_{\\theta}\\left(x_{i}\\right)\\right)}\\end{array}\\right]\n",
    "$$\n",
    "By substituting The Hessian into the Newton’s Method update step, we are left with:\n",
    "$$\n",
    "\\theta_{n+1}=\\theta_{n}+H_{\\ell(\\hat{\\theta})}^{-1} \\nabla \\ell(\\theta)\n",
    "$$\n",
    "We update the weights:\n",
    "$$\n",
    "\\vec{w}_{n+1}=\\vec{w}_{n}-H^{-1}\\left(w_{n}\\right) \\nabla f\\left(\\vec{w}_{n}\\right)\n",
    "$$"
   ]
  },
  {
   "cell_type": "code",
   "execution_count": 4,
   "metadata": {},
   "outputs": [],
   "source": [
    "def H(features, actual_label, weights):                                                         \n",
    "    prediction = predict(features, weights)    \n",
    "    \n",
    "    d1 = (prediction * (1 - prediction)).T *   np.power(weights,2)        \n",
    "    d2 = (prediction * (1 - prediction)).T *  weights        \n",
    "    d3 = (prediction * (1 - prediction))                \n",
    "    H = np.array([[d1, d2],[d2, d3]])                                           \n",
    "    return H, np.array([[(actual_label - prediction).T * weights,                          \n",
    "                     (actual_label - prediction) * 1]])  \n",
    "\n",
    "def update_weights(features, labels, weights, lr, order):\n",
    "    N = len(features)\n",
    "    predictions = predict(features, weights)\n",
    "    if order == 1:\n",
    "        gradient = np.dot(features.T,  predictions - labels)\n",
    "        gradient /= N\n",
    "        gradient *= lr\n",
    "        weights -= gradient\n",
    "        return weights"
   ]
  },
  {
   "cell_type": "markdown",
   "metadata": {},
   "source": [
    "Assign class labels (0 or 1) to our predicted probabilities."
   ]
  },
  {
   "cell_type": "code",
   "execution_count": 5,
   "metadata": {},
   "outputs": [],
   "source": [
    "def decision_boundary(prob):\n",
    "    return 1 if prob >= .5 else 0"
   ]
  },
  {
   "cell_type": "markdown",
   "metadata": {},
   "source": [
    "Training the data, and get optimized weights."
   ]
  },
  {
   "cell_type": "code",
   "execution_count": 6,
   "metadata": {},
   "outputs": [],
   "source": [
    "def train(features, labels, weights, lr, iters, order):\n",
    "    cost_history = []\n",
    "    accracy_history = []\n",
    "\n",
    "    for i in range(iters):\n",
    "        weights = update_weights(features, labels, weights, lr,order)\n",
    "\n",
    "        #Calculate error for auditing purposes\n",
    "        cost = cost_function(features, labels, weights)\n",
    "        cost_history.append(cost)\n",
    "\n",
    "        # Log Progress\n",
    "        if i % 1000 == 0:\n",
    "            print(\"iter: \",str(i) , \" cost: \",str(cost))\n",
    "\n",
    "    return weights, cost_history"
   ]
  },
  {
   "cell_type": "markdown",
   "metadata": {},
   "source": [
    "Accuracy measures how correct the predictions were. \\\n",
    "In this case we compare predicted labels to true labels and divide by the total."
   ]
  },
  {
   "cell_type": "code",
   "execution_count": 7,
   "metadata": {},
   "outputs": [],
   "source": [
    "def accuracy(predicted_labels, actual_labels):\n",
    "    diff = predicted_labels - actual_labels.T\n",
    "    return 1.0 - (float(np.count_nonzero(diff)) / diff.shape[1]) "
   ]
  },
  {
   "cell_type": "markdown",
   "metadata": {},
   "source": [
    "As for the first-order gradient descent method on logistic regression, the loss is dropped significantly in the first 500 loops."
   ]
  },
  {
   "cell_type": "code",
   "execution_count": 8,
   "metadata": {},
   "outputs": [
    {
     "name": "stdout",
     "output_type": "stream",
     "text": [
      "iter:  0  cost:  0.7318607944902067\n",
      "iter:  1000  cost:  0.284700461694812\n",
      "iter:  2000  cost:  0.1826267114615742\n",
      "the accuracy of the first-order gradient descent is : 1.0\n"
     ]
    },
    {
     "data": {
      "image/png": "[encoded data removed]",
      "text/plain": [
       "<Figure size 432x288 with 1 Axes>"
      ]
     },
     "metadata": {
      "needs_background": "light"
     },
     "output_type": "display_data"
    }
   ],
   "source": [
    "m = df.shape[0]\n",
    "n = df.shape[1]-1\n",
    "x = np.zeros((m,n))\n",
    "\n",
    "for i,element in enumerate(feature_cols):\n",
    "    x[:,i] = df[element]\n",
    "\n",
    "y = np.zeros((m,1))\n",
    "y[:,0] = df['desire']\n",
    "\n",
    "#initialize the parameters\n",
    "w = np.random.rand(n,1)\n",
    "lr = 0.01\n",
    "iters = 3000\n",
    "\n",
    "w, cost_history = train(x,y,w,lr,iters,1)\n",
    "predictions = predict(x, w)\n",
    "predict_label = []\n",
    "for i in predictions:\n",
    "    predict_label.append(decision_boundary(i))\n",
    "accuracy = accuracy(predict_label, y)\n",
    "plt.plot(range(len(cost_history)),cost_history)\n",
    "print('the accuracy of the first-order gradient descent is :',accuracy)"
   ]
  }
 ],
 "metadata": {
  "kernelspec": {
   "display_name": "Python 3",
   "language": "python",
   "name": "python3"
  },
  "language_info": {
   "codemirror_mode": {
    "name": "ipython",
    "version": 3
   },
   "file_extension": ".py",
   "mimetype": "text/x-python",
   "name": "python",
   "nbconvert_exporter": "python",
   "pygments_lexer": "ipython3",
   "version": "3.7.3"
  }
 },
 "nbformat": 4,
 "nbformat_minor": 4
}
